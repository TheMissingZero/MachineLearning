{
  "nbformat": 4,
  "nbformat_minor": 0,
  "metadata": {
    "colab": {
      "provenance": []
    },
    "kernelspec": {
      "name": "python3",
      "display_name": "Python 3"
    },
    "language_info": {
      "name": "python"
    }
  },
  "cells": [
    {
      "cell_type": "code",
      "source": [
        "MatplotLib"
      ],
      "metadata": {
        "id": "Ewn_H8CooJuE"
      },
      "execution_count": null,
      "outputs": []
    },
    {
      "cell_type": "markdown",
      "source": [],
      "metadata": {
        "id": "QPS4A2d6oJdH"
      }
    },
    {
      "cell_type": "code",
      "execution_count": 3,
      "metadata": {
        "id": "yFnxUOoJ3K8w"
      },
      "outputs": [],
      "source": [
        "import matplotlib.pyplot as plt"
      ]
    },
    {
      "cell_type": "markdown",
      "source": [
        "plot() method - has four arguments\n",
        "Arguments : (X, Y, format, )\n",
        "format - Marker, line, color\n",
        "Marker options - o/x/*\n",
        "Line options - dotted, dashed, dashed and dotted, solid\n"
      ],
      "metadata": {
        "id": "aJJw0Anip1lc"
      }
    },
    {
      "cell_type": "code",
      "source": [
        "xpoints = [1,2,3,4,5] # X-axis\n",
        "ypoints = [10,20,30,40,50] # Y-axis\n",
        "plt.plot(xpoints, ypoints)\n",
        "plt.show()"
      ],
      "metadata": {
        "id": "_qbyErcjoNu1"
      },
      "execution_count": null,
      "outputs": []
    },
    {
      "cell_type": "markdown",
      "source": [
        "If only one of the points are given (X or Y), then they are considered as Y points\n",
        "X points will take the default values starting at 0"
      ],
      "metadata": {
        "id": "D1-h8QP4rIpV"
      }
    },
    {
      "cell_type": "code",
      "source": [
        "\n",
        "# xpoints = [1,2,3,4,5] # X-axis\n",
        "ypoints = [10,20,30,40,50, 60, 70] # Y-axis\n",
        "plt.plot(ypoints)\n",
        "plt.show()"
      ],
      "metadata": {
        "id": "1Le1LNsjq-Fz"
      },
      "execution_count": null,
      "outputs": []
    },
    {
      "cell_type": "markdown",
      "source": [
        "Format string fmt : marker|line|color"
      ],
      "metadata": {
        "id": "CcwRVY5Rr-Rd"
      }
    },
    {
      "cell_type": "code",
      "source": [
        "xpoints = [1,2,3,4,5] # X-axis\n",
        "ypoints = [10,20,30,40,50, 60, 70] # Y-axis\n",
        "plt.plot(xpoints, marker = 'v', markersize = 10, color = 'r', markerfacecolor = 'blue') # ms or markersize, mfc or markerfacecolor\n",
        "plt.show()"
      ],
      "metadata": {
        "id": "mPLrp3HfsEsW"
      },
      "execution_count": null,
      "outputs": []
    },
    {
      "cell_type": "code",
      "source": [
        "#xpoints = [1,2,3,4,5] # X-axis\n",
        "ypoints = [10,20,30,40,50, 60, 70] # Y-axis\n",
        "plt.plot(ypoints, 'o:k', linewidth=2.5)\n",
        "plt.show()\n",
        "'''# Passing the values in a single string.\n",
        "O FOR MARKER,\n",
        "- for solid line, : for dotted line, -- for dashed line, -. for dashed dotted line,\n",
        "k for color black '''"
      ],
      "metadata": {
        "id": "4qyYETkbtN-C"
      },
      "execution_count": null,
      "outputs": []
    },
    {
      "cell_type": "markdown",
      "source": [
        "Plotting Multiple lines"
      ],
      "metadata": {
        "id": "1lVH5IyuuvyD"
      }
    },
    {
      "cell_type": "code",
      "source": [
        "x1points = [1,2,3,4,5] # X-axis\n",
        "y1points = [10,20,30,40,50] # Y-axis\n",
        "x2points = [11,22,33,44,55] # 2nd X-axis\n",
        "y2points = [17,25,35,45,58] # 2nd Y-axis\n",
        "\n",
        "\n",
        "plt.plot(x1points, y1points, 'o:k', linewidth=2.5)\n",
        "plt.plot(x2points, y2points, 'o-k', linewidth=2.5)\n",
        "plt.show()\n"
      ],
      "metadata": {
        "id": "v90uWdgfuyz9"
      },
      "execution_count": null,
      "outputs": []
    },
    {
      "cell_type": "code",
      "source": [
        "x1points = [1,2,3,4,5] # X-axis\n",
        "y1points = [10,20,30,40,50] # Y-axis\n",
        "x2points = [1,2,3,4,5] # 2nd X-axis\n",
        "y2points = [17,25,35,45,58] # 2nd Y-axis\n",
        "\n",
        "\n",
        "plt.plot(x1points, y1points, y2points ,'o-.k', linewidth=2.5)\n",
        "plt.show()\n"
      ],
      "metadata": {
        "id": "PvLntnEmvwo-"
      },
      "execution_count": null,
      "outputs": []
    },
    {
      "cell_type": "markdown",
      "source": [
        "Chart Title and Axis labels[link text](https://)"
      ],
      "metadata": {
        "id": "nZG6SK8yxfJP"
      }
    },
    {
      "cell_type": "code",
      "source": [
        "x1points = [1,2,3,4,5] # X-axis\n",
        "y1points = [10,20,30,40,50] # Y-axis\n",
        "plt.plot(x1points, y1points,'o-.k', linewidth=2.5)\n",
        "plt.xlabel(\"Day\")\n",
        "plt.ylabel(\"Sales\")\n",
        "plt.title(\"Sale per day\")\n",
        "plt.show()\n"
      ],
      "metadata": {
        "id": "_BzBH2QRxYcT"
      },
      "execution_count": null,
      "outputs": []
    },
    {
      "cell_type": "markdown",
      "source": [
        "Font properties for Title and Labels -\n",
        "Define font dictionary and use the fontdict argument"
      ],
      "metadata": {
        "id": "waYwghtnyJG5"
      }
    },
    {
      "cell_type": "code",
      "source": [
        "x1points = [1,2,3,4,5] # X-axis\n",
        "y1points = [10,20,30,40,50] # Y-axis\n",
        "font1 = {'family': 'Sans Serif', 'color': 'blue', 'size': 15, 'weight':'semibold'}\n",
        "font2 = {'family': 'Sans Serif', 'color': 'black', 'size': 20, 'weight':'bold'}\n",
        "plt.plot(x1points, y1points,'o-.k', linewidth=2.5)\n",
        "plt.xlabel(\"Day\", fontdict= font1, loc='left')\n",
        "plt.ylabel(\"Sales\", fontdict= font1, loc='top') # loc for title text  alignment: 'left', 'right', 'center', and 'bottom', 'center, 'top'\n",
        "plt.title(\"Sale per day\", fontdict= font2, loc='left')\n",
        "plt.show()\n"
      ],
      "metadata": {
        "id": "Rb8anS5FyRev"
      },
      "execution_count": null,
      "outputs": []
    },
    {
      "cell_type": "markdown",
      "source": [
        "Show grid"
      ],
      "metadata": {
        "id": "46gp--se2f0y"
      }
    },
    {
      "cell_type": "code",
      "source": [
        "x1points = [1,2,3,4,5] # X-axis\n",
        "y1points = [10,20,30,40,50] # Y-axis\n",
        "font1 = {'family': 'Sans Serif', 'color': 'blue', 'size': 15, 'weight':'semibold'}\n",
        "font2 = {'family': 'Sans Serif', 'color': 'black', 'size': 20, 'weight':'bold'}\n",
        "plt.plot(x1points, y1points,'o-.k', linewidth=2.5)\n",
        "plt.xlabel(\"Day\", fontdict= font1, loc='left')\n",
        "plt.ylabel(\"Sales\", fontdict= font1, loc='top') # loc for title text  alignment: 'left', 'right', 'center', and 'bottom', 'center, 'top'\n",
        "plt.title(\"Sale per day\", fontdict= font2, loc='left')\n",
        "#plt.grid() show grid in chart\n",
        "plt.grid(axis = 'y') # show grid for x xis\n",
        "plt.grid(axis = 'x', color='g') # show grid for y xis\n",
        "plt.show()\n"
      ],
      "metadata": {
        "id": "rUnQLAJN2gyL"
      },
      "execution_count": null,
      "outputs": []
    },
    {
      "cell_type": "markdown",
      "source": [
        "Sub plots - # subplots 1st arg is row , 2nd arg is col , 3rd arg is index of the current plot\n",
        ""
      ],
      "metadata": {
        "id": "0C7d_RFs5MFe"
      }
    },
    {
      "cell_type": "code",
      "source": [
        "x1 = [1,2,3,4,5]\n",
        "y1= [1,2,3,4,5]\n",
        "#plot 1\n",
        "plt.subplot(1,2,1)\n",
        "plt.plot(x1,y1)\n",
        "\n",
        "#plot 2\n",
        "x2 = [1,2,3,4,5]\n",
        "y2 = [6,7,8,9,15]\n",
        "plt.subplot(1,2,2)\n",
        "plt.plot(x2,y2)\n",
        "\n",
        "plt.show()\n",
        ""
      ],
      "metadata": {
        "id": "_NBUQq-U2dc6"
      },
      "execution_count": null,
      "outputs": []
    },
    {
      "cell_type": "code",
      "source": [
        "x1 = [1,2,3,4,5]\n",
        "y1= [1,2,3,4,5]\n",
        "#plot 1\n",
        "plt.subplot(2,1,1)\n",
        "plt.plot(x1,y1)\n",
        "\n",
        "#plot 2\n",
        "x2 = [1,2,3,4,5]\n",
        "y2 = [6,7,8,9,15]\n",
        "plt.subplot(2,1,2)\n",
        "plt.plot(x2,y2)\n",
        "\n",
        "plt.show()\n",
        ""
      ],
      "metadata": {
        "id": "050btYKX6MWz"
      },
      "execution_count": null,
      "outputs": []
    },
    {
      "cell_type": "code",
      "source": [
        "import numpy as np\n",
        "x = np.array([0, 1, 2, 3])\n",
        "y = np.array([3, 8, 1, 10])\n",
        "\n",
        "plt.subplot(3, 2, 1)\n",
        "plt.title(\"Graph-1\")\n",
        "plt.plot(x,y)\n",
        "\n",
        "x = np.array([0, 1, 2, 3])\n",
        "y = np.array([10, 20, 30, 40])\n",
        "\n",
        "plt.subplot(3, 2, 2)\n",
        "plt.title(\"Graph-2\")\n",
        "plt.plot(x,y)\n",
        "\n",
        "x = np.array([0, 1, 2, 3])\n",
        "y = np.array([3, 8, 1, 10])\n",
        "\n",
        "plt.subplot(3, 2, 3)\n",
        "plt.plot(x,y)\n",
        "\n",
        "x = np.array([0, 1, 2, 3])\n",
        "y = np.array([10, 20, 30, 40])\n",
        "\n",
        "plt.subplot(3, 2, 4)\n",
        "plt.plot(x,y)\n",
        "\n",
        "x = np.array([0, 1, 2, 3])\n",
        "y = np.array([3, 8, 1, 10])\n",
        "\n",
        "plt.subplot(3, 2, 5)\n",
        "plt.plot(x,y)\n",
        "\n",
        "x = np.array([0, 1, 2, 3])\n",
        "y = np.array([10, 20, 30, 40])\n",
        "\n",
        "plt.subplot(3, 2, 6)\n",
        "plt.plot(x,y)\n",
        "\n",
        "plt.suptitle('Multiple charts - subplot example') # Common title for all\n",
        "\n",
        "plt.show()\n",
        ""
      ],
      "metadata": {
        "id": "fGvwoPgi68tc",
        "outputId": "2dea3701-6ec5-46b9-92f1-802042169aa2",
        "colab": {
          "base_uri": "https://localhost:8080/",
          "height": 478
        }
      },
      "execution_count": 78,
      "outputs": [
        {
          "output_type": "display_data",
          "data": {
            "text/plain": [
              "<Figure size 640x480 with 6 Axes>"
            ],
            "image/png": "[encoded data removed]"
          },
          "metadata": {}
        }
      ]
    },
    {
      "cell_type": "markdown",
      "source": [
        "Scatter plots"
      ],
      "metadata": {
        "id": "ZHofZQ6R7n9G"
      }
    },
    {
      "cell_type": "code",
      "source": [
        "x1=[3,4,7,9,13]\n",
        "y1=[5,12,20,16,21]\n",
        "x2=[1,2,3,4,5]\n",
        "y2=[10,12,15,20,24]\n",
        "plt.plot(x2, y2)\n",
        "plt.scatter(x1,y1, color = 'maroon')\n",
        "plt.show()"
      ],
      "metadata": {
        "id": "yPufnHRB7psi"
      },
      "execution_count": null,
      "outputs": []
    },
    {
      "cell_type": "markdown",
      "source": [
        "Bar chart"
      ],
      "metadata": {
        "id": "ETNJdYpi8rf3"
      }
    },
    {
      "cell_type": "code",
      "source": [
        "# Bar plot - vertical bar\n",
        "\n",
        "x = ['A','B','C','D','E']\n",
        "y = [10,20,30,40,50]\n",
        "plt.bar(x,y, width = .4)\n",
        "plt.show()\n",
        "\n",
        "# Bar plot - horizontal bar\n",
        "\n",
        "x = ['A','B','C','D','E']\n",
        "y = [10,20,30,40,50]\n",
        "plt.barh(x,y, color = 'brown', height = .5)\n",
        "plt.show()\n",
        ""
      ],
      "metadata": {
        "id": "-qH6KWSF8sgY",
        "outputId": "9aa43d55-7bf1-42de-fe3c-59b1927647ee",
        "colab": {
          "base_uri": "https://localhost:8080/",
          "height": 843
        }
      },
      "execution_count": 96,
      "outputs": [
        {
          "output_type": "display_data",
          "data": {
            "text/plain": [
              "<Figure size 640x480 with 1 Axes>"
            ],
            "image/png": "[encoded data removed]"
          },
          "metadata": {}
        },
        {
          "output_type": "display_data",
          "data": {
            "text/plain": [
              "<Figure size 640x480 with 1 Axes>"
            ],
            "image/png": "[encoded data removed]"
          },
          "metadata": {}
        }
      ]
    }
  ]
}