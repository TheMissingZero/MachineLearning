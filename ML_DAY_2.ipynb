{
  "nbformat": 4,
  "nbformat_minor": 0,
  "metadata": {
    "colab": {
      "provenance": []
    },
    "kernelspec": {
      "name": "python3",
      "display_name": "Python 3"
    },
    "language_info": {
      "name": "python"
    }
  },
  "cells": [
    {
      "cell_type": "code",
      "execution_count": null,
      "metadata": {
        "colab": {
          "base_uri": "https://localhost:8080/"
        },
        "id": "WBAgvCnxpRIK",
        "outputId": "a0dfb083-25d8-4623-c9be-edf304c90eab"
      },
      "outputs": [
        {
          "output_type": "stream",
          "name": "stdout",
          "text": [
            "Day-1\n"
          ]
        }
      ],
      "source": [
        "print(\"Day-1\")"
      ]
    },
    {
      "cell_type": "markdown",
      "source": [
        "# List introduction\n"
      ],
      "metadata": {
        "id": "cF8LW1HmsP2K"
      }
    },
    {
      "cell_type": "code",
      "source": [
        "# list introduction\n",
        "\n",
        "l = [10,20,30]\n",
        "print(l)"
      ],
      "metadata": {
        "id": "c7P0uM_KsnuO",
        "outputId": "1fd97bc7-0806-4861-8ac6-4b137b48e79f",
        "colab": {
          "base_uri": "https://localhost:8080/"
        }
      },
      "execution_count": 1,
      "outputs": [
        {
          "output_type": "stream",
          "name": "stdout",
          "text": [
            "[10, 20, 30]\n"
          ]
        }
      ]
    },
    {
      "cell_type": "code",
      "source": [
        "print(type(l))"
      ],
      "metadata": {
        "id": "h1HAev1Xs8HV",
        "outputId": "ed4c9084-6f51-4fd3-89ce-03954f9ffde3",
        "colab": {
          "base_uri": "https://localhost:8080/"
        }
      },
      "execution_count": 2,
      "outputs": [
        {
          "output_type": "stream",
          "name": "stdout",
          "text": [
            "<class 'list'>\n"
          ]
        }
      ]
    },
    {
      "cell_type": "code",
      "source": [
        "l2 = [10, 1.11111, \"Ntt\" ] #lists are heterogenous\n",
        "print (l2)"
      ],
      "metadata": {
        "id": "1Qhbf6W7tJuW",
        "outputId": "66e6c16e-4623-4e0e-8658-49baef018499",
        "colab": {
          "base_uri": "https://localhost:8080/"
        }
      },
      "execution_count": 4,
      "outputs": [
        {
          "output_type": "stream",
          "name": "stdout",
          "text": [
            "[10, 1.11111, 'Ntt']\n"
          ]
        }
      ]
    },
    {
      "cell_type": "code",
      "source": [
        "print(len(l2))"
      ],
      "metadata": {
        "id": "4bHXuTvetl71",
        "outputId": "b20287eb-01e3-4b4a-c65d-e8b99258db5a",
        "colab": {
          "base_uri": "https://localhost:8080/"
        }
      },
      "execution_count": 5,
      "outputs": [
        {
          "output_type": "stream",
          "name": "stdout",
          "text": [
            "3\n"
          ]
        }
      ]
    },
    {
      "cell_type": "markdown",
      "source": [
        "# list creating using constructor - list()"
      ],
      "metadata": {
        "id": "21LsoODEumpF"
      }
    },
    {
      "cell_type": "code",
      "source": [
        "l3 = list((10, 20, 3.33))\n",
        "print(type(l3))\n",
        "print(l3)"
      ],
      "metadata": {
        "id": "C27llwAnuhTG",
        "outputId": "ef96a48d-eb3d-4f9b-f0b7-da2b689b57d4",
        "colab": {
          "base_uri": "https://localhost:8080/"
        }
      },
      "execution_count": 7,
      "outputs": [
        {
          "output_type": "stream",
          "name": "stdout",
          "text": [
            "<class 'list'>\n",
            "[10, 20, 3.33]\n"
          ]
        }
      ]
    },
    {
      "cell_type": "markdown",
      "source": [
        "Indexing\n"
      ],
      "metadata": {
        "id": "Aofskhaqv8_N"
      }
    },
    {
      "cell_type": "code",
      "source": [
        "lis = [10,20,30,40,50,60,1.1,2.2,\"NTT\"]\n",
        " #positive indexing\n",
        "print(lis[0])\n",
        "print(lis[2])"
      ],
      "metadata": {
        "id": "tefACyM_v-K8",
        "outputId": "54a59fbc-48bc-4c40-8b8f-4f806ead0faf",
        "colab": {
          "base_uri": "https://localhost:8080/"
        }
      },
      "execution_count": 8,
      "outputs": [
        {
          "output_type": "stream",
          "name": "stdout",
          "text": [
            "10\n",
            "30\n"
          ]
        }
      ]
    },
    {
      "cell_type": "code",
      "source": [
        "# negative indexing\n",
        "print(lis[-1])\n",
        "print(lis[-2])\n",
        "print(lis[-5])\n",
        "print(lis[-8])"
      ],
      "metadata": {
        "id": "d7XvhfTkutMz",
        "outputId": "0255553f-e835-4576-d5ad-d31d8ab12d5f",
        "colab": {
          "base_uri": "https://localhost:8080/"
        }
      },
      "execution_count": 9,
      "outputs": [
        {
          "output_type": "stream",
          "name": "stdout",
          "text": [
            "NTT\n",
            "2.2\n",
            "50\n",
            "20\n"
          ]
        }
      ]
    },
    {
      "cell_type": "markdown",
      "source": [
        "Range of indexing - 3 parameters : start, end, step"
      ],
      "metadata": {
        "id": "K9EvQy9Awpdo"
      }
    },
    {
      "cell_type": "code",
      "source": [
        "l = [10, 20, 30, 40, 50, 60, 70, 80]\n",
        "print(l[2])\n",
        "print(l[0:7])\n",
        "print(l[2:6])\n",
        "print(l[3:4])\n",
        "\n",
        "# negative indexing\n",
        "print(\"Examples: Negative indexing\")\n",
        "print(l[-5:-1])\n",
        "print(l[-7:-2])\n",
        "print(l[-6: ])\n",
        "print(l[-4: -3])\n",
        "\n",
        "print(l[0:7:1])\n",
        "print(l[0:7:2])\n",
        "print(l[0:7:3])"
      ],
      "metadata": {
        "id": "OVjj-PXSwsSB",
        "outputId": "6babff66-c16b-40f6-94c5-7515a26e31ee",
        "colab": {
          "base_uri": "https://localhost:8080/"
        }
      },
      "execution_count": 14,
      "outputs": [
        {
          "output_type": "stream",
          "name": "stdout",
          "text": [
            "30\n",
            "[10, 20, 30, 40, 50, 60, 70]\n",
            "[30, 40, 50, 60]\n",
            "[40]\n",
            "Examples: Negative indexing\n",
            "[40, 50, 60, 70]\n",
            "[20, 30, 40, 50, 60]\n",
            "[30, 40, 50, 60, 70, 80]\n",
            "[50]\n",
            "[10, 20, 30, 40, 50, 60, 70]\n",
            "[10, 30, 50, 70]\n",
            "[10, 40, 70]\n"
          ]
        }
      ]
    },
    {
      "cell_type": "code",
      "source": [
        "print(l[::-1])\n",
        "print(l[:-7:-1])"
      ],
      "metadata": {
        "id": "uiufitMd13Fv",
        "outputId": "3173eafa-c347-4d4c-b4ab-99fcaa18b075",
        "colab": {
          "base_uri": "https://localhost:8080/"
        }
      },
      "execution_count": 23,
      "outputs": [
        {
          "output_type": "stream",
          "name": "stdout",
          "text": [
            "[80, 70, 60, 50, 40, 30, 20, 10]\n",
            "[80, 70, 60, 50, 40, 30]\n"
          ]
        }
      ]
    }
  ]
}